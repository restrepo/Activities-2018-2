{
  "nbformat": 4,
  "nbformat_minor": 0,
  "metadata": {
    "colab": {
      "name": "Homework_8_1007790895.ipynb",
      "version": "0.3.2",
      "provenance": [],
      "collapsed_sections": [],
      "include_colab_link": true
    },
    "kernelspec": {
      "display_name": "Python 3",
      "language": "python",
      "name": "python3"
    }
  },
  "cells": [
    {
      "cell_type": "markdown",
      "metadata": {
        "id": "view-in-github",
        "colab_type": "text"
      },
      "source": [
        "[View in Colaboratory](https://colab.research.google.com/github/restrepo/Activities-2018-2/blob/master/Homework_8_1007790895.ipynb)"
      ]
    },
    {
      "metadata": {
        "id": "MZR3qyX5Nbzm",
        "colab_type": "text"
      },
      "cell_type": "markdown",
      "source": [
        "## Least action"
      ]
    },
    {
      "metadata": {
        "id": "R5IKzlY3Nbzo",
        "colab_type": "code",
        "colab": {
          "base_uri": "https://localhost:8080/",
          "height": 34
        },
        "outputId": "cea4962e-3f45-4336-b691-92b21d5cfae1"
      },
      "cell_type": "code",
      "source": [
        "%pylab inline"
      ],
      "execution_count": 2,
      "outputs": [
        {
          "output_type": "stream",
          "text": [
            "Populating the interactive namespace from numpy and matplotlib\n"
          ],
          "name": "stdout"
        }
      ]
    },
    {
      "metadata": {
        "id": "58Q17cZRNbzv",
        "colab_type": "code",
        "colab": {}
      },
      "cell_type": "code",
      "source": [
        "import numpy as np\n",
        "import pandas as pd"
      ],
      "execution_count": 0,
      "outputs": []
    },
    {
      "metadata": {
        "id": "aL6DEhPxNbzy",
        "colab_type": "text"
      },
      "cell_type": "markdown",
      "source": [
        "### Solution to a free fall problem\n",
        "\\begin{align}\n",
        " x=&-\\frac{1}{2} g t^2+v_0 t \\,, & v=&-g t +v_0\n",
        "\\end{align}\n",
        "At maximum height $t=t_{\\text{end}}/2$ and\n",
        "\\begin{align}\n",
        " x_{\\text{max}}=&-\\frac{1}{2} g (t_{\\text{end}}/2)^2+v_0 \\frac{t_{\\text{end}}}{2} \\,, & 0=&-g \\frac{t_{\\text{end}}}{2} +v_0\n",
        "\\end{align}\n",
        "From the second equation $v_0=g t_{\\text{end}}/2=14.7$ m/s, and\n",
        "\\begin{align}\n",
        " x_{\\text{max}}=&-\\frac{1}{2} g (t_{\\text{end}}/2)^2+ g \\frac{t_{\\text{end}}}{2} \\frac{t_{\\text{end}}}{2} \\nonumber\\\\\n",
        " =&g\\frac{ t_{\\text{end}}^2  }{8}=11.025\\ \\text{m}\\,.\n",
        "\\end{align}"
      ]
    },
    {
      "metadata": {
        "id": "aOq2sXh8Nbzz",
        "colab_type": "text"
      },
      "cell_type": "markdown",
      "source": [
        "__Activity__: Find the same solution by fitting the polynomial of degree 2 that go trough the points: \n",
        "* $(t_0,x_0)=(0,0)$,  \n",
        "* $(t_{\\rm end}/2,x_{\\rm max})=(11.025,1.5)$, \n",
        "* $(t_{\\rm end},x_{\\rm end})=(0,3)$, in s and m respectively."
      ]
    },
    {
      "metadata": {
        "id": "Hu_fMjGLNbz0",
        "colab_type": "code",
        "colab": {
          "base_uri": "https://localhost:8080/",
          "height": 136
        },
        "outputId": "3178b909-669c-42fb-bc06-f7cd42ccac0b"
      },
      "cell_type": "code",
      "source": [
        "df=pd.DataFrame( {'t':[0,1.5,3],\n",
        "                  'x':[0,11.025,0]\n",
        "     })\n",
        "df"
      ],
      "execution_count": 4,
      "outputs": [
        {
          "output_type": "execute_result",
          "data": {
            "text/html": [
              "<div>\n",
              "<style scoped>\n",
              "    .dataframe tbody tr th:only-of-type {\n",
              "        vertical-align: middle;\n",
              "    }\n",
              "\n",
              "    .dataframe tbody tr th {\n",
              "        vertical-align: top;\n",
              "    }\n",
              "\n",
              "    .dataframe thead th {\n",
              "        text-align: right;\n",
              "    }\n",
              "</style>\n",
              "<table border=\"1\" class=\"dataframe\">\n",
              "  <thead>\n",
              "    <tr style=\"text-align: right;\">\n",
              "      <th></th>\n",
              "      <th>t</th>\n",
              "      <th>x</th>\n",
              "    </tr>\n",
              "  </thead>\n",
              "  <tbody>\n",
              "    <tr>\n",
              "      <th>0</th>\n",
              "      <td>0.0</td>\n",
              "      <td>0.000</td>\n",
              "    </tr>\n",
              "    <tr>\n",
              "      <th>1</th>\n",
              "      <td>1.5</td>\n",
              "      <td>11.025</td>\n",
              "    </tr>\n",
              "    <tr>\n",
              "      <th>2</th>\n",
              "      <td>3.0</td>\n",
              "      <td>0.000</td>\n",
              "    </tr>\n",
              "  </tbody>\n",
              "</table>\n",
              "</div>"
            ],
            "text/plain": [
              "     t       x\n",
              "0  0.0   0.000\n",
              "1  1.5  11.025\n",
              "2  3.0   0.000"
            ]
          },
          "metadata": {
            "tags": []
          },
          "execution_count": 4
        }
      ]
    },
    {
      "metadata": {
        "id": "JFuR3Zf5QQyl",
        "colab_type": "code",
        "colab": {
          "base_uri": "https://localhost:8080/",
          "height": 50
        },
        "outputId": "8c4cb80f-a4e9-40a7-d0ef-8e042e584e79"
      },
      "cell_type": "code",
      "source": [
        "df.loc[1,'x']=11.025 \n",
        "coeff=np.polyfit(df.t,df.x,deg=2)\n",
        "x=np.poly1d(coeff,variable='t')\n",
        "print(x)"
      ],
      "execution_count": 5,
      "outputs": [
        {
          "output_type": "stream",
          "text": [
            "      2\n",
            "-4.9 t + 14.7 t + 8.205e-15\n"
          ],
          "name": "stdout"
        }
      ]
    },
    {
      "metadata": {
        "id": "GPpLlfH_QQkI",
        "colab_type": "code",
        "colab": {
          "base_uri": "https://localhost:8080/",
          "height": 443
        },
        "outputId": "43d9d772-b45e-4c51-e688-fd8f75e21741"
      },
      "cell_type": "code",
      "source": [
        "plt.plot(df.t,df.x,'ro')\n",
        "plt.plot(t,x(t))\n",
        "#plt.grid()"
      ],
      "execution_count": 6,
      "outputs": [
        {
          "output_type": "error",
          "ename": "NameError",
          "evalue": "ignored",
          "traceback": [
            "\u001b[0;31m---------------------------------------------------------------------------\u001b[0m",
            "\u001b[0;31mNameError\u001b[0m                                 Traceback (most recent call last)",
            "\u001b[0;32m<ipython-input-6-5846f2245494>\u001b[0m in \u001b[0;36m<module>\u001b[0;34m()\u001b[0m\n\u001b[1;32m      1\u001b[0m \u001b[0mplt\u001b[0m\u001b[0;34m.\u001b[0m\u001b[0mplot\u001b[0m\u001b[0;34m(\u001b[0m\u001b[0mdf\u001b[0m\u001b[0;34m.\u001b[0m\u001b[0mt\u001b[0m\u001b[0;34m,\u001b[0m\u001b[0mdf\u001b[0m\u001b[0;34m.\u001b[0m\u001b[0mx\u001b[0m\u001b[0;34m,\u001b[0m\u001b[0;34m'ro'\u001b[0m\u001b[0;34m)\u001b[0m\u001b[0;34m\u001b[0m\u001b[0m\n\u001b[0;32m----> 2\u001b[0;31m \u001b[0mplt\u001b[0m\u001b[0;34m.\u001b[0m\u001b[0mplot\u001b[0m\u001b[0;34m(\u001b[0m\u001b[0mt\u001b[0m\u001b[0;34m,\u001b[0m\u001b[0mx\u001b[0m\u001b[0;34m(\u001b[0m\u001b[0mt\u001b[0m\u001b[0;34m)\u001b[0m\u001b[0;34m)\u001b[0m\u001b[0;34m\u001b[0m\u001b[0m\n\u001b[0m\u001b[1;32m      3\u001b[0m \u001b[0;31m#plt.grid()\u001b[0m\u001b[0;34m\u001b[0m\u001b[0;34m\u001b[0m\u001b[0m\n",
            "\u001b[0;31mNameError\u001b[0m: name 't' is not defined"
          ]
        },
        {
          "output_type": "display_data",
          "data": {
            "image/png": "[encoded data removed]",
            "text/plain": [
              "<matplotlib.figure.Figure at 0x7fd4fb933668>"
            ]
          },
          "metadata": {
            "tags": []
          }
        }
      ]
    },
    {
      "metadata": {
        "id": "eZ3YQL2GQQZt",
        "colab_type": "text"
      },
      "cell_type": "markdown",
      "source": [
        "## Least Action for the free fall problem"
      ]
    },
    {
      "metadata": {
        "id": "R3HyGGCUNb0A",
        "colab_type": "text"
      },
      "cell_type": "markdown",
      "source": [
        "<div style=\"float: right;\" markdown=\"1\">\n",
        "    <img src=\"https://github.com/restrepo/ComputationalMethods/blob/master/material/figures/leastaction.png?raw=1\">\n",
        "</div>\n",
        "\n",
        "### Geometry interpretation\n",
        "Following the geometry theory developed [here](http://www.eftaylor.com/software/ActionApplets/LeastAction.html), we will try to define something called the _Action_ for one small segment of the free fall movement in one-dimension. \n",
        "\n",
        "For that we need the experimental data consisting on the height of an object of mass $m$ in free fall, and the height $x_i$, for each time $t_i$. This data would be fitted by a polynomial of degree two, as displayed in the figure for one of the fitted segments of the plot of $x$ as a function of $t$. We take the origin of the coordinates at ground level. For each segment we can calculate an average kinetic energy, $T$, and an averge potential energy, $V$, in the limit of $\\Delta t=t_2-t_1$ small. From the figure\n",
        "\n",
        "\\begin{align}\n",
        "T_{12}=\\frac12 m v^2\\approx &\\frac12 m\\left(\\frac{x_2-x_1}{t_2-t_1}\\right)^2\\,,&\n",
        "V_{12}=mgh\\approx& m g \\frac{x_2+x_1}{2}\\,.\n",
        "\\end{align}\n",
        "\n",
        "We can then reformulate the problem of the free fall in the following terms. From all the possible curves that can interpolate the points $(t_1,x_1)$ and $(t_2,x_2)$, which is the correct one?. \n",
        "\n",
        "The answer, found by Euler can be obtained from the definition of the function \"Lagrangian\"\n",
        "$$L(t)=T(t)-V(t)$$\n",
        "\n",
        "We define the \"Action\" of one interpolating function between the points $(t_1,x_1)$ and $(t_2,x_2)$ as\n",
        "$$S=\\int_{t_1}^{t_2} L\\, {\\rm d}t $$\n",
        "\n",
        "The result is that the correct interpolation, called the _physical trajectory_, is the one which has a _minumum_ value for the Action!\n",
        "\n",
        "For one segment of the action between $(t_1,x_1)$, and $(t_2,x_2)$, with $\\Delta t$ sufficiently small such that $L$ can be considered constant, we have\n",
        "\\begin{eqnarray}\n",
        "S_1&=&\\int_{t_1}^{t_2} L dt \\\\\n",
        "&\\approx& \\left[\\frac12 m v^2-m g h \\right]\\Delta t\\\\\n",
        "&\\approx& \\left[\\frac12 m\\left(\\frac{x_2-x_1}{t_2-t_1}\\right)^2-m g \\frac{x_2+x_1}{2} \\right](t_2-t_1)\n",
        "\\end{eqnarray}\n",
        "that corresponds to Eq. (11) of Am. J. Phys, Vol. 72(2004)478: http://www.eftaylor.com/pub/Symmetries&ConsLaws.pdf"
      ]
    },
    {
      "metadata": {
        "id": "GKoRz7hwNb0A",
        "colab_type": "text"
      },
      "cell_type": "markdown",
      "source": [
        "__Activity__: \n",
        "1. Calculates \n",
        "$$S=\\int_{t_{\\rm min}}^{t_{\\rm max}} L(t)\\operatorname{d}t $$\n",
        "for the physical trajectory of a particle in free fall of $m=0.2\\ $kg, where\n",
        "$$L(t)=\\frac{1}{2}m v^2(t)-mgx(t)$$\n",
        "_Hint_:\n",
        "$$F(t)=\\int L(t)\\operatorname{d}t$$\n",
        "$$S=F(t_{\\rm max})-F(t_{\\rm min})$$\n",
        "1. Calculates also the instataneous energy\n",
        "$$E(t)=\\frac{1}{2}m v^2(t)+mgx(t)$$\n",
        "for  several times."
      ]
    },
    {
      "metadata": {
        "id": "HY4HEx_jNb0B",
        "colab_type": "code",
        "colab": {
          "base_uri": "https://localhost:8080/",
          "height": 168
        },
        "outputId": "02f13605-92ce-47dd-b108-10eb0a4e38f3"
      },
      "cell_type": "code",
      "source": [
        "xmax=11.025 \n",
        "df.loc[1,'x']=xmax\n",
        "coeff=np.polyfit(df.t,df.x,deg=2)\n",
        "x=np.poly1d(coeff,variable='t')\n",
        "print('x(t) [m]:\\n',x)\n",
        "print(\"=\"*45)\n",
        "m=0.2\n",
        "g=9.8\n",
        "v=x.deriv()\n",
        "L=0.5*m*v**2-m*g*x\n",
        "E=0.5*m*v**2+m*g*x\n",
        "F=L.integ() # Analytical integration\n",
        "S=F( df.t.max() ) - F( df.t.min() ) \n",
        "print('for xmax={} m: S={:.1f} J.s  min: -21.6 J.s'.format(xmax,S))\n",
        "print(\"=\"*45)\n",
        "Deltat=0.2\n",
        "#t=np.linspace(df.t.min() , df.t.max(),10)\n",
        "t=np.arange(df.t.min() , df.t.max()+Deltat,Deltat)\n",
        "print('instantaneous energy [J]:\\n {}'.format(E(t)))"
      ],
      "execution_count": 7,
      "outputs": [
        {
          "output_type": "stream",
          "text": [
            "x(t) [m]:\n",
            "       2\n",
            "-4.9 t + 14.7 t + 8.205e-15\n",
            "=============================================\n",
            "for xmax=11.025 m: S=-21.6 J.s  min: -21.6 J.s\n",
            "=============================================\n",
            "instantaneous energy [J]:\n",
            " [21.609 21.609 21.609 21.609 21.609 21.609 21.609 21.609 21.609 21.609\n",
            " 21.609 21.609 21.609 21.609 21.609 21.609]\n"
          ],
          "name": "stdout"
        }
      ]
    },
    {
      "metadata": {
        "id": "PqFVeeRCNb0E",
        "colab_type": "text"
      },
      "cell_type": "markdown",
      "source": [
        "__Activity__: Changes the maximum height for the previous activity and check what happens with the instantaneous energy."
      ]
    },
    {
      "metadata": {
        "id": "9ipNWDgSbEyJ",
        "colab_type": "text"
      },
      "cell_type": "markdown",
      "source": [
        "## Comparision with non-physical trajectories\n",
        "\n",
        "---\n",
        "\n"
      ]
    },
    {
      "metadata": {
        "id": "PEtUtXetNb0G",
        "colab_type": "text"
      },
      "cell_type": "markdown",
      "source": [
        "I good approximation to the integral is:\n",
        "$$S=\\int_{t_{\\rm min}}^{t_{\\rm max}} L(t)\\operatorname{d}t\\approx \\sum_i \\left[\\frac{L(t_{i+1})+L(t_i)}{2}\\right]\\Delta t$$"
      ]
    },
    {
      "metadata": {
        "id": "1pZ_b3DzNb0G",
        "colab_type": "code",
        "colab": {
          "base_uri": "https://localhost:8080/",
          "height": 34
        },
        "outputId": "00a1c80c-cba9-423a-a386-b96d01dbd0b8"
      },
      "cell_type": "code",
      "source": [
        "print('Δt={}'.format( t[1:]-t[:-1] )  )"
      ],
      "execution_count": 8,
      "outputs": [
        {
          "output_type": "stream",
          "text": [
            "Δt=[0.2 0.2 0.2 0.2 0.2 0.2 0.2 0.2 0.2 0.2 0.2 0.2 0.2 0.2 0.2]\n"
          ],
          "name": "stdout"
        }
      ]
    },
    {
      "metadata": {
        "id": "YN7j9K2MNb0K",
        "colab_type": "code",
        "colab": {
          "base_uri": "https://localhost:8080/",
          "height": 34
        },
        "outputId": "e77c47e9-73af-456e-faf2-0b030c8d8cbb"
      },
      "cell_type": "code",
      "source": [
        "print( 'S={:.1f} J.s'.format( 0.5*( L(t)[1:]+L(t)[:-1] ).sum()*Deltat ) )"
      ],
      "execution_count": 9,
      "outputs": [
        {
          "output_type": "stream",
          "text": [
            "S=-21.2 J.s\n"
          ],
          "name": "stdout"
        }
      ]
    },
    {
      "metadata": {
        "id": "IiYjIbeZNb0N",
        "colab_type": "text"
      },
      "cell_type": "markdown",
      "source": [
        "Or even more general"
      ]
    },
    {
      "metadata": {
        "id": "jAsX0bIKNb0O",
        "colab_type": "code",
        "colab": {
          "base_uri": "https://localhost:8080/",
          "height": 34
        },
        "outputId": "303e6460-2a2b-4740-82dd-66d0af6285c2"
      },
      "cell_type": "code",
      "source": [
        "def Saprx(L,t):\n",
        "    return   0.5*( L(t)[1:]+L(t)[:-1] )*(  t[1:]-t[:-1]  )  \n",
        "\n",
        "print( 'S={:.1f} J.s'.format(  Saprx(L,t).sum() ) )"
      ],
      "execution_count": 10,
      "outputs": [
        {
          "output_type": "stream",
          "text": [
            "S=-21.2 J.s\n"
          ],
          "name": "stdout"
        }
      ]
    },
    {
      "metadata": {
        "id": "0bdwvMQONb0R",
        "colab_type": "code",
        "colab": {
          "base_uri": "https://localhost:8080/",
          "height": 342
        },
        "outputId": "8d37a048-3faf-4077-ff9f-eaa6d5a0e9ec"
      },
      "cell_type": "code",
      "source": [
        "Ss=[]\n",
        "Es=[]\n",
        "m=0.2\n",
        "g=9.8\n",
        "Deltat=0.2\n",
        "#t=np.linspace(df.t.min() , df.t.max(),10)\n",
        "t=np.arange(df.t.min() , df.t.max()+Deltat,Deltat)\n",
        "xmax=[6,11.025,15]; x0=0;xend=0\n",
        "ls=['r--','k-','b-.']\n",
        "for i in range(len(xmax) ):\n",
        "    df=pd.DataFrame({'t':[t.min(),t.mean(),t.max()],'x':[x0,xmax[i],xend]})\n",
        "    coeffs=np.polyfit(df.t,df.x,2)\n",
        "    x=np.poly1d(coeffs,variable='t')\n",
        "    v=x.deriv()\n",
        "    L=0.5*m*v**2-m*g*x\n",
        "    F=L.integ() # Analytical integration \n",
        "    E=0.5*m*v**2+m*g*x\n",
        "    S=F( df.t.max() ) - F( df.t.min() )\n",
        "    print('S={:.1f}  J.s'.format( S ) )\n",
        "    Ss.append( Saprx(L,t)  )\n",
        "    Es.append( E(t) )\n",
        "    #Plot\n",
        "    if ls:\n",
        "        plt.plot(t,x(t),ls[i],label='S={:.1f} J$\\cdot$s'.format( S  )   )\n",
        "\n",
        "if ls:\n",
        "    plt.legend(loc='best',fontsize=12)    \n",
        "    plt.xlabel('$t$ [s]',size=20)\n",
        "    plt.ylabel('$x$ [m]',size=20)"
      ],
      "execution_count": 11,
      "outputs": [
        {
          "output_type": "stream",
          "text": [
            "S=-17.1  J.s\n",
            "S=-21.6  J.s\n",
            "S=-18.8  J.s\n"
          ],
          "name": "stdout"
        },
        {
          "output_type": "display_data",
          "data": {
            "image/png": "[encoded data removed]",
            "text/plain": [
              "<matplotlib.figure.Figure at 0x7fd4f8fd6978>"
            ]
          },
          "metadata": {
            "tags": []
          }
        }
      ]
    },
    {
      "metadata": {
        "id": "YzSnwspWcU7P",
        "colab_type": "text"
      },
      "cell_type": "markdown",
      "source": [
        "Only the physical trajectory conserves energy"
      ]
    },
    {
      "metadata": {
        "id": "ctLVmvX8Nb0U",
        "colab_type": "code",
        "colab": {
          "base_uri": "https://localhost:8080/",
          "height": 185
        },
        "outputId": "4d114d7e-48ee-418d-c232-23ab027d099c"
      },
      "cell_type": "code",
      "source": [
        "Es"
      ],
      "execution_count": 12,
      "outputs": [
        {
          "output_type": "execute_result",
          "data": {
            "text/plain": [
              "[array([ 6.4       ,  7.73404444,  8.87751111,  9.8304    , 10.59271111,\n",
              "        11.16444444, 11.5456    , 11.73617778, 11.73617778, 11.5456    ,\n",
              "        11.16444444, 10.59271111,  9.8304    ,  8.87751111,  7.73404444,\n",
              "         6.4       ]),\n",
              " array([21.609, 21.609, 21.609, 21.609, 21.609, 21.609, 21.609, 21.609,\n",
              "        21.609, 21.609, 21.609, 21.609, 21.609, 21.609, 21.609, 21.609]),\n",
              " array([40.        , 37.36177778, 35.10044444, 33.216     , 31.70844444,\n",
              "        30.57777778, 29.824     , 29.44711111, 29.44711111, 29.824     ,\n",
              "        30.57777778, 31.70844444, 33.216     , 35.10044444, 37.36177778,\n",
              "        40.        ])]"
            ]
          },
          "metadata": {
            "tags": []
          },
          "execution_count": 12
        }
      ]
    },
    {
      "metadata": {
        "id": "uenEmzJYNb0e",
        "colab_type": "text"
      },
      "cell_type": "markdown",
      "source": [
        "Approximated result"
      ]
    },
    {
      "metadata": {
        "id": "PUSiUqwfNb0f",
        "colab_type": "code",
        "colab": {
          "base_uri": "https://localhost:8080/",
          "height": 34
        },
        "outputId": "14b54a6e-cf6b-4b55-84b7-a7657ea041c9"
      },
      "cell_type": "code",
      "source": [
        "Ss[0].sum(),Ss[1].sum(),Ss[2].sum()"
      ],
      "execution_count": 13,
      "outputs": [
        {
          "output_type": "execute_result",
          "data": {
            "text/plain": [
              "(-16.958577777777823, -21.224840000000114, -18.1831111111111)"
            ]
          },
          "metadata": {
            "tags": []
          },
          "execution_count": 13
        }
      ]
    },
    {
      "metadata": {
        "id": "ro9iNdZZNb0m",
        "colab_type": "text"
      },
      "cell_type": "markdown",
      "source": [
        "__Activity__: Check that the Action of a trajectory with a polynomial of order $n$ which fits $n+1$ points with the same extreme values, gives an Action that is larger than the previous minimun"
      ]
    },
    {
      "metadata": {
        "id": "YoBPtb_UQdf6",
        "colab_type": "code",
        "colab": {
          "base_uri": "https://localhost:8080/",
          "height": 136
        },
        "outputId": "eb6293b1-5b7e-4d2d-e883-cb3ec5e96b1c"
      },
      "cell_type": "code",
      "source": [
        "df"
      ],
      "execution_count": 14,
      "outputs": [
        {
          "output_type": "execute_result",
          "data": {
            "text/html": [
              "<div>\n",
              "<style scoped>\n",
              "    .dataframe tbody tr th:only-of-type {\n",
              "        vertical-align: middle;\n",
              "    }\n",
              "\n",
              "    .dataframe tbody tr th {\n",
              "        vertical-align: top;\n",
              "    }\n",
              "\n",
              "    .dataframe thead th {\n",
              "        text-align: right;\n",
              "    }\n",
              "</style>\n",
              "<table border=\"1\" class=\"dataframe\">\n",
              "  <thead>\n",
              "    <tr style=\"text-align: right;\">\n",
              "      <th></th>\n",
              "      <th>t</th>\n",
              "      <th>x</th>\n",
              "    </tr>\n",
              "  </thead>\n",
              "  <tbody>\n",
              "    <tr>\n",
              "      <th>0</th>\n",
              "      <td>0.0</td>\n",
              "      <td>0</td>\n",
              "    </tr>\n",
              "    <tr>\n",
              "      <th>1</th>\n",
              "      <td>1.5</td>\n",
              "      <td>15</td>\n",
              "    </tr>\n",
              "    <tr>\n",
              "      <th>2</th>\n",
              "      <td>3.0</td>\n",
              "      <td>0</td>\n",
              "    </tr>\n",
              "  </tbody>\n",
              "</table>\n",
              "</div>"
            ],
            "text/plain": [
              "     t   x\n",
              "0  0.0   0\n",
              "1  1.5  15\n",
              "2  3.0   0"
            ]
          },
          "metadata": {
            "tags": []
          },
          "execution_count": 14
        }
      ]
    },
    {
      "metadata": {
        "id": "xDF_nGugQlKz",
        "colab_type": "code",
        "colab": {
          "base_uri": "https://localhost:8080/",
          "height": 195
        },
        "outputId": "76a06315-eca8-4dce-e202-427c9fcdf485"
      },
      "cell_type": "code",
      "source": [
        "ndf=df.append({'t':0.75,'x':9}, ignore_index=True)\n",
        "ndf=ndf.append({'t':2.25,'x':3.76}, ignore_index=True)\n",
        "ndf=ndf.sort_values('t')\n",
        "ndf"
      ],
      "execution_count": 15,
      "outputs": [
        {
          "output_type": "execute_result",
          "data": {
            "text/html": [
              "<div>\n",
              "<style scoped>\n",
              "    .dataframe tbody tr th:only-of-type {\n",
              "        vertical-align: middle;\n",
              "    }\n",
              "\n",
              "    .dataframe tbody tr th {\n",
              "        vertical-align: top;\n",
              "    }\n",
              "\n",
              "    .dataframe thead th {\n",
              "        text-align: right;\n",
              "    }\n",
              "</style>\n",
              "<table border=\"1\" class=\"dataframe\">\n",
              "  <thead>\n",
              "    <tr style=\"text-align: right;\">\n",
              "      <th></th>\n",
              "      <th>t</th>\n",
              "      <th>x</th>\n",
              "    </tr>\n",
              "  </thead>\n",
              "  <tbody>\n",
              "    <tr>\n",
              "      <th>0</th>\n",
              "      <td>0.00</td>\n",
              "      <td>0.00</td>\n",
              "    </tr>\n",
              "    <tr>\n",
              "      <th>3</th>\n",
              "      <td>0.75</td>\n",
              "      <td>9.00</td>\n",
              "    </tr>\n",
              "    <tr>\n",
              "      <th>1</th>\n",
              "      <td>1.50</td>\n",
              "      <td>15.00</td>\n",
              "    </tr>\n",
              "    <tr>\n",
              "      <th>4</th>\n",
              "      <td>2.25</td>\n",
              "      <td>3.76</td>\n",
              "    </tr>\n",
              "    <tr>\n",
              "      <th>2</th>\n",
              "      <td>3.00</td>\n",
              "      <td>0.00</td>\n",
              "    </tr>\n",
              "  </tbody>\n",
              "</table>\n",
              "</div>"
            ],
            "text/plain": [
              "      t      x\n",
              "0  0.00   0.00\n",
              "3  0.75   9.00\n",
              "1  1.50  15.00\n",
              "4  2.25   3.76\n",
              "2  3.00   0.00"
            ]
          },
          "metadata": {
            "tags": []
          },
          "execution_count": 15
        }
      ]
    },
    {
      "metadata": {
        "id": "fLV6-c0IRTKP",
        "colab_type": "code",
        "colab": {
          "base_uri": "https://localhost:8080/",
          "height": 309
        },
        "outputId": "cd2040fa-1260-46e9-8b38-330a299d566d"
      },
      "cell_type": "code",
      "source": [
        "Ss=[]\n",
        "Es=[]\n",
        "m=0.2\n",
        "g=9.8\n",
        "Deltat=0.2\n",
        "deg=3\n",
        "\n",
        "t=np.arange(ndf.t.min() , ndf.t.max()+Deltat,Deltat)\n",
        "xmax=[11.025]; x0=0;xend=0\n",
        "ls=['r--','k-','b-.']\n",
        "for i in range(len(xmax)):\n",
        "    \n",
        "    coeffs=np.polyfit(ndf.t,ndf.x,deg)\n",
        "    x=np.poly1d(coeffs,variable='t')\n",
        "    v=x.deriv()\n",
        "    L=0.5*m*v**2-m*g*x\n",
        "    F=L.integ() # Analytical integration \n",
        "    E=0.5*m*v**2+m*g*x\n",
        "    S=F( ndf.t.max() ) - F( ndf.t.min() )\n",
        "    print('S={:.1f}  J.s'.format( S ) )\n",
        "    Ss.append( Saprx(L,t)  )\n",
        "    Es.append( E(t) )\n",
        "    #Plot\n",
        "    if ls:\n",
        "        plt.plot(t,x(t),ls[i],label='S={:.1f} J$\\cdot$s'.format( S  )   )\n",
        "\n",
        "if ls:\n",
        "    plt.legend(loc='best',fontsize=12)    \n",
        "    plt.xlabel('$t$ [s]',size=20)\n",
        "    plt.ylabel('$x$ [m]',size=20)"
      ],
      "execution_count": 20,
      "outputs": [
        {
          "output_type": "stream",
          "text": [
            "S=-12.9  J.s\n"
          ],
          "name": "stdout"
        },
        {
          "output_type": "display_data",
          "data": {
            "image/png": "[encoded data removed]",
            "text/plain": [
              "<matplotlib.figure.Figure at 0x7fd4f8f39e10>"
            ]
          },
          "metadata": {
            "tags": []
          }
        }
      ]
    },
    {
      "metadata": {
        "id": "d6__5upT2ueI",
        "colab_type": "code",
        "colab": {
          "base_uri": "https://localhost:8080/",
          "height": 84
        },
        "outputId": "b8360712-be2f-46dd-bc6c-f142b889e484"
      },
      "cell_type": "code",
      "source": [
        "Es"
      ],
      "execution_count": 19,
      "outputs": [
        {
          "output_type": "execute_result",
          "data": {
            "text/plain": [
              "[array([64.47112893, 47.64427283, 36.5301893 , 29.78756325, 26.22318342,\n",
              "        24.79194234, 24.59683635, 24.88896561, 25.06753406, 24.67984949,\n",
              "        23.42132346, 21.13547137, 17.8139124 , 13.59636956,  8.77066966,\n",
              "         3.77274332])]"
            ]
          },
          "metadata": {
            "tags": []
          },
          "execution_count": 19
        }
      ]
    }
  ]
}