{
  "nbformat": 4,
  "nbformat_minor": 0,
  "metadata": {
    "kernelspec": {
      "display_name": "Python 3",
      "language": "python",
      "name": "python3"
    },
    "language_info": {
      "codemirror_mode": {
        "name": "ipython",
        "version": 3
      },
      "file_extension": ".py",
      "mimetype": "text/x-python",
      "name": "python",
      "nbconvert_exporter": "python",
      "pygments_lexer": "ipython3",
      "version": "3.7.3"
    },
    "colab": {
      "name": "covid.ipynb",
      "provenance": [],
      "include_colab_link": true
    }
  },
  "cells": [
    {
      "cell_type": "markdown",
      "metadata": {
        "id": "view-in-github",
        "colab_type": "text"
      },
      "source": [
        "<a href=\"https://colab.research.google.com/github/restrepo/Activities-2018-2/blob/master/covid.ipynb\" target=\"_parent\"><img src=\"https://colab.research.google.com/assets/colab-badge.svg\" alt=\"Open In Colab\"/></a>"
      ]
    },
    {
      "cell_type": "markdown",
      "metadata": {
        "id": "AyVdvXDHSegL",
        "colab_type": "text"
      },
      "source": [
        "# Covid-19 data for Colombia"
      ]
    },
    {
      "cell_type": "markdown",
      "metadata": {
        "id": "mgzzuuteSegO",
        "colab_type": "text"
      },
      "source": [
        "Use of [public Covid-19 in GitHub](https://github.com/CSSEGISandData/COVID-19) data from: \n",
        "[Center for Systems Science and Engineering (CSSE)](https://systems.jhu.edu/):\n",
        "\n",
        "* Hongru Du, Lauren Gardner, and Ensheng Dong, An interactive web-based dashboard to track COVID-19 in real time, http://www.thelancet.com/infection Published:February 19, 2020, DOI:https://doi.org/10.1016/S1473-3099(20)30120-1\n",
        "\n",
        "For examples of use of the data see Jupyter Notebook `covid19_analysis.ipynb`: [[local](./covid19_analysis.ipynb)] [[GitHub](https://github.com/restrepo/Covid-19/blob/master/covid_analysis.ipynb)] [[Colab](https://colab.research.google.com/github/restrepo/Covid-19/blob/master/covid_analysis.ipynb)]\n",
        "\n",
        "[Official Colombia data](https://infogram.com/covid-2019-ins-colombia-1hnq41zg9ord63z)"
      ]
    },
    {
      "cell_type": "code",
      "metadata": {
        "id": "CETEHcSKSegP",
        "colab_type": "code",
        "outputId": "bba02dd9-03bd-4b08-907b-fb293dcbbd41",
        "colab": {
          "base_uri": "https://localhost:8080/",
          "height": 34
        }
      },
      "source": [
        "%pylab inline"
      ],
      "execution_count": 2,
      "outputs": [
        {
          "output_type": "stream",
          "text": [
            "Populating the interactive namespace from numpy and matplotlib\n"
          ],
          "name": "stdout"
        }
      ]
    },
    {
      "cell_type": "code",
      "metadata": {
        "id": "ayDS570kSegT",
        "colab_type": "code",
        "colab": {}
      },
      "source": [
        "import pandas as pd\n",
        "import re\n",
        "#See https://strftime.org/\n",
        "import datetime"
      ],
      "execution_count": 0,
      "outputs": []
    },
    {
      "cell_type": "code",
      "metadata": {
        "id": "wHmtr6kKxN8S",
        "colab_type": "code",
        "colab": {}
      },
      "source": [
        "def date_range(date_start='2/23/20',date_end='3/03/20',date_step=1):\n",
        "    dr=[]\n",
        "    start = datetime.datetime.strptime(date_start, \"%m/%d/%y\")\n",
        "    end = datetime.datetime.strptime(date_end, \"%m/%d/%y\")\n",
        "    step = datetime.timedelta(days=date_step)\n",
        "    while start <= end:\n",
        "        #avoid leading zeroes: https://stackoverflow.com/a/2073189/2268280\n",
        "        dr.append(start.strftime(\"%-m/%-d/%y\"))\n",
        "        start += step\n",
        "    return dr\n",
        "def get_infected(country,date_start=None,date_end=None,DataFrame=None,\n",
        "      DataSource='https://raw.githubusercontent.com/CSSEGISandData/COVID-19/',\n",
        "      DataFile='master/csse_covid_19_data/csse_covid_19_time_series/time_series_19-covid-Confirmed.csv'\n",
        "      ):\n",
        "    '''\n",
        "    Obtenga la lista de infectados de un país\n",
        "     country: País\n",
        "     date_start: Fecha inicial en el formato MM/DD/YY, e.g. '3/10/20' o None\n",
        "     date_end  : Fecha final en el formato MM/DD/YY, e.g. '3/10/20' o None\n",
        "     si alguna de las fechas esta en None se toma de los extremos del rango\n",
        "     de fechas disponible\n",
        "    '''\n",
        "    if DataFrame is None:\n",
        "        cva=pd.read_csv('{}{}'.format(data_source,data_file))\n",
        "        cva=cva.reset_index(drop=True)\n",
        "    else:\n",
        "        cva=DataFrame.copy()\n",
        "\n",
        "    d=[ c for c in cva.columns if re.search(r'^[0-9]{1,2}\\/[0-9]{1,2}\\/[1920]{2}',c)]\n",
        "    if not date_start:\n",
        "        date_start=d[0]\n",
        "    if not date_end:\n",
        "        date_end=d[-1]\n",
        "    dr=date_range(date_start=date_start,date_end=date_end)\n",
        "    cvrg=cva[cva['Country/Region']==country].reset_index(drop=True)\n",
        "    y=cvrg[dr].values.tolist()[0]\n",
        "    return y"
      ],
      "execution_count": 0,
      "outputs": []
    },
    {
      "cell_type": "markdown",
      "metadata": {
        "id": "YhCXT6zdSegW",
        "colab_type": "text"
      },
      "source": [
        "## Load data"
      ]
    },
    {
      "cell_type": "code",
      "metadata": {
        "id": "0_gnDzNISegX",
        "colab_type": "code",
        "colab": {}
      },
      "source": [
        "DataSource='https://raw.githubusercontent.com/CSSEGISandData/COVID-19/'\n",
        "DataFile='master/csse_covid_19_data/csse_covid_19_time_series/time_series_19-covid-Confirmed.csv'\n",
        "cva=pd.read_csv('{}{}'.format(DataSource,DataFile))\n",
        "cva=cva.reset_index(drop=True)"
      ],
      "execution_count": 0,
      "outputs": []
    },
    {
      "cell_type": "markdown",
      "metadata": {
        "id": "jRbRPRjSSega",
        "colab_type": "text"
      },
      "source": [
        "## Normalize data\n",
        "Be sure to have only a row for country"
      ]
    },
    {
      "cell_type": "code",
      "metadata": {
        "id": "Rmikf1jhSegb",
        "colab_type": "code",
        "outputId": "9810b68e-970a-4068-b2c7-645f7515f37c",
        "colab": {
          "base_uri": "https://localhost:8080/",
          "height": 34
        }
      },
      "source": [
        "def get_sum_series(cvn):\n",
        "    cs=cvn.sum()\n",
        "    cs['Province/State']='All'\n",
        "    cs['Country/Region']=cvn['Country/Region'].unique()[0]\n",
        "    cs['Lat']=round( cvn['Lat'].mean(),3 )\n",
        "    cs['Long']=round( cvn['Long'].mean(),3 )\n",
        "    return cs\n",
        "\n",
        "cvo=pd.DataFrame()\n",
        "\n",
        "multi_country=[]\n",
        "for c in cva['Country/Region']:\n",
        "    if c not in multi_country:\n",
        "        cvn=cva[cva['Country/Region']==c].reset_index(drop=True)\n",
        "        if cvn.shape[0]>1:\n",
        "            multi_country.append(c)\n",
        "            cvo=cvo.append(get_sum_series(cvn),ignore_index=True)\n",
        "        else:\n",
        "            cvo=cvo.append(cvn,sort=False)\n",
        "\n",
        "cvo=cvo[cva.columns].reset_index(drop=True)\n",
        "\n",
        "cv=cvo.copy()\n",
        "\n",
        "cv.shape"
      ],
      "execution_count": 8,
      "outputs": [
        {
          "output_type": "execute_result",
          "data": {
            "text/plain": [
              "(162, 63)"
            ]
          },
          "metadata": {
            "tags": []
          },
          "execution_count": 8
        }
      ]
    },
    {
      "cell_type": "markdown",
      "metadata": {
        "id": "J5UQ9MCws8V7",
        "colab_type": "text"
      },
      "source": [
        "Special cases"
      ]
    },
    {
      "cell_type": "code",
      "metadata": {
        "id": "j_a5EKDRs_7z",
        "colab_type": "code",
        "colab": {}
      },
      "source": [
        "sc=cva[cva['Province/State']=='Hong Kong'].reset_index(drop=True)\n",
        "sc['Country/Region']='Hong Kong'\n",
        "if sc.shape[0]==1:\n",
        "    cv=cv.append(sc,sort=False)\n",
        "    cv=cv.reset_index(drop=True)"
      ],
      "execution_count": 0,
      "outputs": []
    },
    {
      "cell_type": "markdown",
      "metadata": {
        "id": "8PJ5bGjxSegf",
        "colab_type": "text"
      },
      "source": [
        "## Make a list from infections rows"
      ]
    },
    {
      "cell_type": "code",
      "metadata": {
        "id": "LP6kSUL4Segg",
        "colab_type": "code",
        "outputId": "b22aed7e-7536-4d1b-c424-d9afa8f06dd4",
        "colab": {
          "base_uri": "https://localhost:8080/",
          "height": 185
        }
      },
      "source": [
        "d=[ c for c in cv.columns if re.search(r'^[0-9]{1,2}\\/[0-9]{1,2}\\/[1920]{2}',c)]\n",
        "\n",
        "#https://www.tutorialspoint.com/How-to-sort-a-Python-date-string-list\n",
        "#updeted date\n",
        "cv['tolist']=cv[d].values.tolist()\n",
        "\n",
        "d.sort(key=lambda date: datetime.datetime.strptime(date, \"%m/%d/%y\"))\n",
        "\n",
        "cv[:1]"
      ],
      "execution_count": 10,
      "outputs": [
        {
          "output_type": "execute_result",
          "data": {
            "text/html": [
              "<div>\n",
              "<style scoped>\n",
              "    .dataframe tbody tr th:only-of-type {\n",
              "        vertical-align: middle;\n",
              "    }\n",
              "\n",
              "    .dataframe tbody tr th {\n",
              "        vertical-align: top;\n",
              "    }\n",
              "\n",
              "    .dataframe thead th {\n",
              "        text-align: right;\n",
              "    }\n",
              "</style>\n",
              "<table border=\"1\" class=\"dataframe\">\n",
              "  <thead>\n",
              "    <tr style=\"text-align: right;\">\n",
              "      <th></th>\n",
              "      <th>Province/State</th>\n",
              "      <th>Country/Region</th>\n",
              "      <th>Lat</th>\n",
              "      <th>Long</th>\n",
              "      <th>1/22/20</th>\n",
              "      <th>1/23/20</th>\n",
              "      <th>1/24/20</th>\n",
              "      <th>1/25/20</th>\n",
              "      <th>1/26/20</th>\n",
              "      <th>1/27/20</th>\n",
              "      <th>1/28/20</th>\n",
              "      <th>1/29/20</th>\n",
              "      <th>1/30/20</th>\n",
              "      <th>1/31/20</th>\n",
              "      <th>2/1/20</th>\n",
              "      <th>2/2/20</th>\n",
              "      <th>2/3/20</th>\n",
              "      <th>2/4/20</th>\n",
              "      <th>2/5/20</th>\n",
              "      <th>2/6/20</th>\n",
              "      <th>2/7/20</th>\n",
              "      <th>2/8/20</th>\n",
              "      <th>2/9/20</th>\n",
              "      <th>2/10/20</th>\n",
              "      <th>2/11/20</th>\n",
              "      <th>2/12/20</th>\n",
              "      <th>2/13/20</th>\n",
              "      <th>2/14/20</th>\n",
              "      <th>2/15/20</th>\n",
              "      <th>2/16/20</th>\n",
              "      <th>2/17/20</th>\n",
              "      <th>2/18/20</th>\n",
              "      <th>2/19/20</th>\n",
              "      <th>2/20/20</th>\n",
              "      <th>2/21/20</th>\n",
              "      <th>2/22/20</th>\n",
              "      <th>2/23/20</th>\n",
              "      <th>2/24/20</th>\n",
              "      <th>2/25/20</th>\n",
              "      <th>2/26/20</th>\n",
              "      <th>2/27/20</th>\n",
              "      <th>2/28/20</th>\n",
              "      <th>2/29/20</th>\n",
              "      <th>3/1/20</th>\n",
              "      <th>3/2/20</th>\n",
              "      <th>3/3/20</th>\n",
              "      <th>3/4/20</th>\n",
              "      <th>3/5/20</th>\n",
              "      <th>3/6/20</th>\n",
              "      <th>3/7/20</th>\n",
              "      <th>3/8/20</th>\n",
              "      <th>3/9/20</th>\n",
              "      <th>3/10/20</th>\n",
              "      <th>3/11/20</th>\n",
              "      <th>3/12/20</th>\n",
              "      <th>3/13/20</th>\n",
              "      <th>3/14/20</th>\n",
              "      <th>3/15/20</th>\n",
              "      <th>3/16/20</th>\n",
              "      <th>3/17/20</th>\n",
              "      <th>3/18/20</th>\n",
              "      <th>3/19/20</th>\n",
              "      <th>3/20/20</th>\n",
              "      <th>tolist</th>\n",
              "    </tr>\n",
              "  </thead>\n",
              "  <tbody>\n",
              "    <tr>\n",
              "      <th>0</th>\n",
              "      <td>NaN</td>\n",
              "      <td>Thailand</td>\n",
              "      <td>15.0</td>\n",
              "      <td>101.0</td>\n",
              "      <td>2</td>\n",
              "      <td>3</td>\n",
              "      <td>5</td>\n",
              "      <td>7</td>\n",
              "      <td>8</td>\n",
              "      <td>8</td>\n",
              "      <td>14</td>\n",
              "      <td>14</td>\n",
              "      <td>14</td>\n",
              "      <td>19</td>\n",
              "      <td>19</td>\n",
              "      <td>19</td>\n",
              "      <td>19</td>\n",
              "      <td>25</td>\n",
              "      <td>25</td>\n",
              "      <td>25</td>\n",
              "      <td>25</td>\n",
              "      <td>32</td>\n",
              "      <td>32</td>\n",
              "      <td>32</td>\n",
              "      <td>33</td>\n",
              "      <td>33</td>\n",
              "      <td>33</td>\n",
              "      <td>33</td>\n",
              "      <td>33</td>\n",
              "      <td>34</td>\n",
              "      <td>35</td>\n",
              "      <td>35</td>\n",
              "      <td>35</td>\n",
              "      <td>35</td>\n",
              "      <td>35</td>\n",
              "      <td>35</td>\n",
              "      <td>35</td>\n",
              "      <td>35</td>\n",
              "      <td>37</td>\n",
              "      <td>40</td>\n",
              "      <td>40</td>\n",
              "      <td>41</td>\n",
              "      <td>42</td>\n",
              "      <td>42</td>\n",
              "      <td>43</td>\n",
              "      <td>43</td>\n",
              "      <td>43</td>\n",
              "      <td>47</td>\n",
              "      <td>48</td>\n",
              "      <td>50</td>\n",
              "      <td>50</td>\n",
              "      <td>50</td>\n",
              "      <td>53</td>\n",
              "      <td>59</td>\n",
              "      <td>70</td>\n",
              "      <td>75</td>\n",
              "      <td>82</td>\n",
              "      <td>114</td>\n",
              "      <td>147</td>\n",
              "      <td>177</td>\n",
              "      <td>212</td>\n",
              "      <td>272</td>\n",
              "      <td>322</td>\n",
              "      <td>[2, 3, 5, 7, 8, 8, 14, 14, 14, 19, 19, 19, 19,...</td>\n",
              "    </tr>\n",
              "  </tbody>\n",
              "</table>\n",
              "</div>"
            ],
            "text/plain": [
              "  Province/State  ...                                             tolist\n",
              "0            NaN  ...  [2, 3, 5, 7, 8, 8, 14, 14, 14, 19, 19, 19, 19,...\n",
              "\n",
              "[1 rows x 64 columns]"
            ]
          },
          "metadata": {
            "tags": []
          },
          "execution_count": 10
        }
      ]
    },
    {
      "cell_type": "markdown",
      "metadata": {
        "id": "Wr_8XBT5jydT",
        "colab_type": "text"
      },
      "source": [
        "last update"
      ]
    },
    {
      "cell_type": "code",
      "metadata": {
        "id": "EIsLe1SJPssU",
        "colab_type": "code",
        "outputId": "ba805527-5649-402a-fe45-69562a2db866",
        "colab": {
          "base_uri": "https://localhost:8080/",
          "height": 34
        }
      },
      "source": [
        "dmax=d[-1]\n",
        "dmax"
      ],
      "execution_count": 11,
      "outputs": [
        {
          "output_type": "execute_result",
          "data": {
            "text/plain": [
              "'3/20/20'"
            ]
          },
          "metadata": {
            "tags": []
          },
          "execution_count": 11
        }
      ]
    },
    {
      "cell_type": "markdown",
      "metadata": {
        "id": "n0oKGDTursX1",
        "colab_type": "text"
      },
      "source": [
        "## Fit to logistic or exponential model\n",
        "See: \n",
        "* https://twitter.com/burkert_andreas/status/1239692655833071616\n",
        "    * https://raw.githubusercontent.com/restrepo/Covid-19/master/covid-19.jpeg\n",
        "\n",
        "* Method for Python explained in \n",
        "[Covid-19 infection in Italy. Mathematical models and predictions](https://towardsdatascience.com/covid-19-infection-in-italy-mathematical-models-and-predictions-7784b4d7dd8d):\n",
        "\n",
        "> While the logistic model describes an infection growth that is going to stop in the future, the exponential model describes an unstoppable infection growth. For example, if a patient infects 2 patients per day, after 1 day we’ll have 2 infections, 4 after 2 days, 8 after 3 and so on. The most generic exponential function is:\n",
        "\n",
        "$$f(x,a,b,c)=a\\operatorname{e}^{b(x-c)}\\,.$$\n",
        "\n",
        "Which can be [interpreted as](https://en.wikipedia.org/wiki/Doubling_time)\n",
        "$$N(t)=N(t_0)\\operatorname{e}^{g(t-t_0)}$$\n",
        "\n",
        "or\n",
        "\n",
        "$g = \\dfrac{\\ln\\left(N(t)/N(t_0)\\right)}{t-t_0}$\n",
        "\n",
        "* $N(t)$ = the number of infections at time $t$\n",
        "* $N(t_0)$ = the number of infections at time $t_0$\n",
        "* $g$ = growth rate\n",
        "* $t$ = time (usually in days)\n",
        "\n",
        "Doubling time $T_d$:\n",
        "\n",
        "$T_d = \\dfrac{\\ln(2)}{g}$\n",
        "\n",
        "$T_d = (t-t_0)\\dfrac{\\ln(2)}{\\ln\\left(N(t)/N(t_0)\\right)}$\n",
        "\n",
        "For doubling times analysis for other countries see [Forbes](https://www.forbes.com/sites/startswithabang/2020/03/17/why-exponential-growth-is-so-scary-for-the-covid-19-coronavirus/#66dd44434e9b) - [Result](https://raw.githubusercontent.com/restrepo/Covid-19/master/img/doubling.jpg)\n",
        "\n"
      ]
    },
    {
      "cell_type": "code",
      "metadata": {
        "id": "bnKuAnlk6kxM",
        "colab_type": "code",
        "colab": {}
      },
      "source": [
        "import numpy as np\n",
        "from scipy import optimize as opt\n",
        "def exponential_model(x,a,b,c):\n",
        "    return a*np.exp(b*(x-c))\n",
        "def logistic_model(x,a,b,c):\n",
        "    return c/(1+np.exp(-(x-b)/a))    "
      ],
      "execution_count": 0,
      "outputs": []
    },
    {
      "cell_type": "markdown",
      "metadata": {
        "id": "OAdvB2PtAs2c",
        "colab_type": "text"
      },
      "source": [
        "Select a range of dates"
      ]
    },
    {
      "cell_type": "markdown",
      "metadata": {
        "id": "wyrBVXeBOVRZ",
        "colab_type": "text"
      },
      "source": [
        "# Colombia"
      ]
    },
    {
      "cell_type": "markdown",
      "metadata": {
        "id": "B06YcwU5kRE8",
        "colab_type": "text"
      },
      "source": [
        "### Select data for Colombia"
      ]
    },
    {
      "cell_type": "code",
      "metadata": {
        "id": "OKuDneoi8phN",
        "colab_type": "code",
        "colab": {}
      },
      "source": [
        "NOT_OFFICIAL_UPDATE=False\n",
        "c='Colombia'\n",
        "max_forecast=1000\n",
        "prediction=18\n",
        "extra_days=16\n",
        "start_day='3/9/20'\n",
        "#dr=date_range(date_start=start_day,date_end=dmax)\n",
        "#cvrg=cv[cv['Country/Region']==c].reset_index(drop=True)\n",
        "#y=cvrg[dr].values.tolist()[0]\n",
        "y=get_infected(c,date_start=start_day,date_end=dmax,DataFrame=cv)\n",
        "if NOT_OFFICIAL_UPDATE:\n",
        "    today=input('Last infections: ')\n",
        "    y.append(int(today))\n",
        "x=range(1,len(y)+1)"
      ],
      "execution_count": 0,
      "outputs": []
    },
    {
      "cell_type": "markdown",
      "metadata": {
        "id": "hygnPKYpf88d",
        "colab_type": "text"
      },
      "source": [
        "### Logistic model for Colombia"
      ]
    },
    {
      "cell_type": "code",
      "metadata": {
        "id": "wbC9csucbD6h",
        "colab_type": "code",
        "outputId": "099f461f-b6fe-4f8c-b34b-02d4af5148a1",
        "colab": {
          "base_uri": "https://localhost:8080/",
          "height": 34
        }
      },
      "source": [
        "logistic_fit = opt.curve_fit(logistic_model,x,y,p0=[2,10,100])\n",
        "'logistic end: {} ± {} infections'.format(int(logistic_fit[0][2]),\n",
        "                               int(np.sqrt(logistic_fit[1][2,2])))"
      ],
      "execution_count": 60,
      "outputs": [
        {
          "output_type": "execute_result",
          "data": {
            "text/plain": [
              "'logistic end: 168 ± 16 infections'"
            ]
          },
          "metadata": {
            "tags": []
          },
          "execution_count": 60
        }
      ]
    },
    {
      "cell_type": "markdown",
      "metadata": {
        "id": "5UVvC_XWEpzk",
        "colab_type": "text"
      },
      "source": [
        "### Exponential model for Colombia"
      ]
    },
    {
      "cell_type": "markdown",
      "metadata": {
        "id": "oj76wgXuigZk",
        "colab_type": "text"
      },
      "source": [
        "Prepare data"
      ]
    },
    {
      "cell_type": "code",
      "metadata": {
        "id": "boCtIzi15e0y",
        "colab_type": "code",
        "outputId": "fd0f5526-1b18-4e76-c9d8-d6e9cca132bb",
        "colab": {
          "base_uri": "https://localhost:8080/",
          "height": 34
        }
      },
      "source": [
        "exp_fit = opt.curve_fit(exponential_model,x,y,p0=[1,0.4,3])\n",
        "try:\n",
        "    Δb=np.sqrt(exp_fit[1][1,1])\n",
        "except:\n",
        "    Δb=0\n",
        "'exponential `b`-fitted parameter: {}  ± {}'.format(exp_fit[0][1].round(3),Δb.round(3))"
      ],
      "execution_count": 61,
      "outputs": [
        {
          "output_type": "execute_result",
          "data": {
            "text/plain": [
              "'exponential `b`-fitted parameter: 0.269  ± 0.028'"
            ]
          },
          "metadata": {
            "tags": []
          },
          "execution_count": 61
        }
      ]
    },
    {
      "cell_type": "markdown",
      "metadata": {
        "id": "BX2K94qZACv2",
        "colab_type": "text"
      },
      "source": [
        "Prediction next day"
      ]
    },
    {
      "cell_type": "code",
      "metadata": {
        "id": "q4B7lxuVfh-Y",
        "colab_type": "code",
        "outputId": "6190dc3a-20cc-4049-9e63-d242efd04bd4",
        "colab": {
          "base_uri": "https://localhost:8080/",
          "height": 34
        }
      },
      "source": [
        "exp_fit_co=exp_fit[0].copy()\n",
        "exponential_model_co=lambda x: exponential_model(x, exp_fit_co[0],exp_fit_co[1],exp_fit_co[2]  )\n",
        "infc=exponential_model_co(x[-1]+1  )\n",
        "pinfc=exponential_model(x[-1]+1, exp_fit_co[0],exp_fit_co[1]+Δb,exp_fit_co[2]  )-infc\n",
        "minfc=infc-exponential_model(x[-1]+1, exp_fit_co[0],exp_fit_co[1]-Δb,exp_fit_co[2]  )\n",
        "next_day=r'next day:  $%g^{+%g}_{-%g}$' %(\n",
        "                        int( infc ),int( pinfc ),int( minfc )  )\n",
        "print('day {}:  {} infections'.format(x[-1]+1,next_day) )"
      ],
      "execution_count": 62,
      "outputs": [
        {
          "output_type": "stream",
          "text": [
            "day 13:  next day:  $177^{+86}_{-58}$ infections\n"
          ],
          "name": "stdout"
        }
      ]
    },
    {
      "cell_type": "markdown",
      "metadata": {
        "id": "KeVqU_YvJAfS",
        "colab_type": "text"
      },
      "source": [
        "Iterpretation in terms of\n",
        "$$N(t)=N(t_0)\\operatorname{e}^{g(t-t_0)}$$"
      ]
    },
    {
      "cell_type": "code",
      "metadata": {
        "id": "Z-cVd2FTKVqR",
        "colab_type": "code",
        "outputId": "185fc7df-2c72-4317-f32f-f2c969005458",
        "colab": {
          "base_uri": "https://localhost:8080/",
          "height": 34
        }
      },
      "source": [
        "N0=exp_fit[0][0];g=exp_fit[0][1];t0=exp_fit[0][2]\n",
        "if exponential_model(t0,N0,g,t0)==N0:\n",
        "    Td=np.log(2)/g\n",
        "else:\n",
        "    print('WARNING: N(t) interpretation not working')\n",
        "    Td=None\n",
        "if Td:\n",
        "    dt=re.sub('\\.0\\s',' ', '(doubling time = {} days)'.format(Td.round(1)\n",
        "        ))\n",
        "    texmodel='N(t)=N(t_0)e^{t-t_0}='\n",
        "    print('T_d →  {}'.format(dt))\n",
        "else:\n",
        "    texmodel=''\n",
        "    dt=''"
      ],
      "execution_count": 63,
      "outputs": [
        {
          "output_type": "stream",
          "text": [
            "T_d →  (doubling time = 2.6 days)\n"
          ],
          "name": "stdout"
        }
      ]
    },
    {
      "cell_type": "markdown",
      "metadata": {
        "id": "_SDaHxDWijWJ",
        "colab_type": "text"
      },
      "source": [
        "Visualization"
      ]
    },
    {
      "cell_type": "code",
      "metadata": {
        "id": "qhDjsZXGHwYi",
        "colab_type": "code",
        "outputId": "bdcf2ea8-ea5d-48da-86ef-c4b3b742111c",
        "colab": {
          "base_uri": "https://localhost:8080/",
          "height": 300
        }
      },
      "source": [
        "LOGISTIC=False\n",
        "ERRORS=True\n",
        "ylinlog='log'\n",
        "xx=range(x[0],x[-1]+extra_days)\n",
        "if min(y)>0:\n",
        "    ymin=min(y)\n",
        "else:\n",
        "    ymin=1\n",
        "\n",
        "plt.plot(x,y,'r-',label=c)\n",
        "plt.plot(xx,\n",
        "         exponential_model(xx,exp_fit[0][0],exp_fit[0][1],exp_fit[0][2]),\n",
        "         'k:',\n",
        "         label=r'$%s%g\\cdot e^{%g[t-(%g)]}$' %(texmodel,\n",
        "                                             exp_fit[0][0].round(2),\n",
        "                                             exp_fit[0][1].round(3),\n",
        "                                             exp_fit[0][2].round(2)) )\n",
        "if ERRORS:\n",
        "    plt.plot(xx,\n",
        "         exponential_model(xx,exp_fit[0][0],exp_fit[0][1]+Δb,exp_fit[0][2]),\n",
        "         'm:',lw=0.5)\n",
        "    plt.plot(xx,\n",
        "         exponential_model(xx,exp_fit[0][0],exp_fit[0][1]-Δb,exp_fit[0][2]),\n",
        "         'm:',lw=0.5)\n",
        "if LOGISTIC:\n",
        "    plt.plot(xx,\n",
        "         logistic_model(xx,logistic_fit[0][0],logistic_fit[0][1],logistic_fit[0][2]),\n",
        "         'c:',lw=1\n",
        "          )\n",
        "\n",
        "plt.hlines(max_forecast,xx[0],xx[-1],linestyles='--',lw=1)\n",
        "plt.vlines(prediction,ymin,max_forecast,linestyles='--',lw=1)\n",
        "\n",
        "plt.title('From: {} to {}'.format(\n",
        "    datetime.datetime.strptime(start_day,\"%m/%d/%y\").strftime(\"%B %-d, %Y\"),\n",
        "    datetime.datetime.strptime(dmax,\"%m/%d/%y\").strftime(\"%B %-d, %Y\") ) )\n",
        "plt.plot(x[-1]+1,infc,'r*',markersize=10,\n",
        "         label=next_day\n",
        "         )\n",
        "\n",
        "plt.legend(loc='upper left')\n",
        "plt.xscale('linear')\n",
        "plt.yscale(ylinlog)\n",
        "plt.xlabel('days',size=15)\n",
        "plt.ylabel('infections '+dt,size=13 )\n",
        "if ylinlog=='linear':\n",
        "    xmax=x[-1]+2\n",
        "    ymax=y[-1]+infc+Δb\n",
        "else:\n",
        "    xmax=xx[-1]\n",
        "    ymax=max_forecast+30000\n",
        "plt.xlim(xx[0],xmax)\n",
        "plt.ylim(ymin,ymax)\n",
        "plt.grid()\n",
        "plt.savefig('Colombia.png')"
      ],
      "execution_count": 64,
      "outputs": [
        {
          "output_type": "display_data",
          "data": {
            "image/png": "[encoded data removed]",
            "text/plain": [
              "<Figure size 432x288 with 1 Axes>"
            ]
          },
          "metadata": {
            "tags": []
          }
        }
      ]
    },
    {
      "cell_type": "markdown",
      "metadata": {
        "id": "Nr4ABj2LOyW6",
        "colab_type": "text"
      },
      "source": [
        "\n",
        "## Doubling time"
      ]
    },
    {
      "cell_type": "code",
      "metadata": {
        "id": "MiXZuux2SDOK",
        "colab_type": "code",
        "colab": {
          "base_uri": "https://localhost:8080/",
          "height": 34
        },
        "outputId": "e08398d5-fca6-45ca-ac86-21eb0a535ed9"
      },
      "source": [
        "y"
      ],
      "execution_count": 68,
      "outputs": [
        {
          "output_type": "execute_result",
          "data": {
            "text/plain": [
              "[1, 3, 9, 9, 13, 22, 34, 54, 65, 93, 102, 128]"
            ]
          },
          "metadata": {
            "tags": []
          },
          "execution_count": 68
        }
      ]
    },
    {
      "cell_type": "code",
      "metadata": {
        "id": "L29_VpaZSWL-",
        "colab_type": "code",
        "colab": {
          "base_uri": "https://localhost:8080/",
          "height": 34
        },
        "outputId": "05ac9b23-bbdc-420d-c72a-47266f9e1845"
      },
      "source": [
        "list(x)"
      ],
      "execution_count": 74,
      "outputs": [
        {
          "output_type": "execute_result",
          "data": {
            "text/plain": [
              "[1, 2, 3, 4, 5, 6, 7, 8, 9, 10, 11, 12]"
            ]
          },
          "metadata": {
            "tags": []
          },
          "execution_count": 74
        }
      ]
    },
    {
      "cell_type": "code",
      "metadata": {
        "id": "legRHDP_SzOL",
        "colab_type": "code",
        "colab": {
          "base_uri": "https://localhost:8080/",
          "height": 34
        },
        "outputId": "41f92920-a948-49de-e386-d9da12005bcb"
      },
      "source": [
        "list(x[3:])"
      ],
      "execution_count": 108,
      "outputs": [
        {
          "output_type": "execute_result",
          "data": {
            "text/plain": [
              "[4, 5, 6, 7, 8, 9, 10, 11, 12]"
            ]
          },
          "metadata": {
            "tags": []
          },
          "execution_count": 108
        }
      ]
    },
    {
      "cell_type": "code",
      "metadata": {
        "id": "_M_YFC9mTCYv",
        "colab_type": "code",
        "colab": {
          "base_uri": "https://localhost:8080/",
          "height": 34
        },
        "outputId": "7547b58d-ca32-46f7-b11c-5db5293da7ae"
      },
      "source": [
        "list(x[2:-1])"
      ],
      "execution_count": 116,
      "outputs": [
        {
          "output_type": "execute_result",
          "data": {
            "text/plain": [
              "[3, 4, 5, 6, 7, 8, 9, 10, 11]"
            ]
          },
          "metadata": {
            "tags": []
          },
          "execution_count": 116
        }
      ]
    },
    {
      "cell_type": "code",
      "metadata": {
        "id": "zDhkKH9BO3gb",
        "colab_type": "code",
        "colab": {
          "base_uri": "https://localhost:8080/",
          "height": 205
        },
        "outputId": "ef3c84e5-e80b-4759-8a5a-d315a37a7d7c"
      },
      "source": [
        "sp=pd.DataFrame()\n",
        "spd={'initial_date':start_day,'final_date':dmax}\n",
        "for d in x[2:-1]:\n",
        "    exp_fit = opt.curve_fit(exponential_model,x[:d+1],y[:d+1],p0=[1,0.4,3])\n",
        "    print('exponential `b`-fitted parameter: {}'.format(\n",
        "        exp_fit[0][1].round(3) ))\n",
        "    spd['g']=exp_fit[0][1]\n",
        "    N0=exp_fit[0][0];g=exp_fit[0][1];t0=exp_fit[0][2]\n",
        "    if exponential_model(t0,N0,g,t0)==N0:\n",
        "        Td=np.log(2)/g\n",
        "        spd['N0']=exp_fit[0][0]\n",
        "        spd['t0']=exp_fit[0][2]\n",
        "        spd['Td']=Td\n",
        "        spd['day']=d\n",
        "        spd['infections']=y[d]\n",
        "    sp=sp.append(spd,ignore_index=True)\n",
        "    #break\n",
        "\n",
        "sp['day']=sp['day'].astype(int)\n",
        "sp['infections']=sp['infections'].astype(int)\n"
      ],
      "execution_count": 128,
      "outputs": [
        {
          "output_type": "stream",
          "text": [
            "exponential `b`-fitted parameter: 0.474\n",
            "exponential `b`-fitted parameter: 0.394\n",
            "exponential `b`-fitted parameter: 0.428\n",
            "exponential `b`-fitted parameter: 0.436\n",
            "exponential `b`-fitted parameter: 0.447\n",
            "exponential `b`-fitted parameter: 0.371\n",
            "exponential `b`-fitted parameter: 0.353\n",
            "exponential `b`-fitted parameter: 0.296\n",
            "exponential `b`-fitted parameter: 0.269\n"
          ],
          "name": "stdout"
        },
        {
          "output_type": "stream",
          "text": [
            "/usr/local/lib/python3.6/dist-packages/scipy/optimize/minpack.py:808: OptimizeWarning: Covariance of the parameters could not be estimated\n",
            "  category=OptimizeWarning)\n"
          ],
          "name": "stderr"
        }
      ]
    },
    {
      "cell_type": "code",
      "metadata": {
        "id": "jYJQhuu0VGEL",
        "colab_type": "code",
        "colab": {
          "base_uri": "https://localhost:8080/",
          "height": 326
        },
        "outputId": "0d905d75-b753-4643-b602-a514ebf9d536"
      },
      "source": [
        "sp"
      ],
      "execution_count": 129,
      "outputs": [
        {
          "output_type": "execute_result",
          "data": {
            "text/html": [
              "<div>\n",
              "<style scoped>\n",
              "    .dataframe tbody tr th:only-of-type {\n",
              "        vertical-align: middle;\n",
              "    }\n",
              "\n",
              "    .dataframe tbody tr th {\n",
              "        vertical-align: top;\n",
              "    }\n",
              "\n",
              "    .dataframe thead th {\n",
              "        text-align: right;\n",
              "    }\n",
              "</style>\n",
              "<table border=\"1\" class=\"dataframe\">\n",
              "  <thead>\n",
              "    <tr style=\"text-align: right;\">\n",
              "      <th></th>\n",
              "      <th>N0</th>\n",
              "      <th>Td</th>\n",
              "      <th>day</th>\n",
              "      <th>final_date</th>\n",
              "      <th>g</th>\n",
              "      <th>infections</th>\n",
              "      <th>initial_date</th>\n",
              "      <th>t0</th>\n",
              "    </tr>\n",
              "  </thead>\n",
              "  <tbody>\n",
              "    <tr>\n",
              "      <th>0</th>\n",
              "      <td>2.807600</td>\n",
              "      <td>1.462654</td>\n",
              "      <td>3</td>\n",
              "      <td>3/20/20</td>\n",
              "      <td>0.473897</td>\n",
              "      <td>9</td>\n",
              "      <td>3/9/20</td>\n",
              "      <td>1.313390</td>\n",
              "    </tr>\n",
              "    <tr>\n",
              "      <th>1</th>\n",
              "      <td>2.494229</td>\n",
              "      <td>1.758198</td>\n",
              "      <td>4</td>\n",
              "      <td>3/20/20</td>\n",
              "      <td>0.394237</td>\n",
              "      <td>13</td>\n",
              "      <td>3/9/20</td>\n",
              "      <td>0.714947</td>\n",
              "    </tr>\n",
              "    <tr>\n",
              "      <th>2</th>\n",
              "      <td>2.677249</td>\n",
              "      <td>1.621183</td>\n",
              "      <td>5</td>\n",
              "      <td>3/20/20</td>\n",
              "      <td>0.427556</td>\n",
              "      <td>22</td>\n",
              "      <td>3/9/20</td>\n",
              "      <td>1.110281</td>\n",
              "    </tr>\n",
              "    <tr>\n",
              "      <th>3</th>\n",
              "      <td>2.087084</td>\n",
              "      <td>1.589835</td>\n",
              "      <td>6</td>\n",
              "      <td>3/20/20</td>\n",
              "      <td>0.435987</td>\n",
              "      <td>34</td>\n",
              "      <td>3/9/20</td>\n",
              "      <td>0.608070</td>\n",
              "    </tr>\n",
              "    <tr>\n",
              "      <th>4</th>\n",
              "      <td>3.353201</td>\n",
              "      <td>1.550790</td>\n",
              "      <td>7</td>\n",
              "      <td>3/20/20</td>\n",
              "      <td>0.446964</td>\n",
              "      <td>54</td>\n",
              "      <td>3/9/20</td>\n",
              "      <td>1.793219</td>\n",
              "    </tr>\n",
              "    <tr>\n",
              "      <th>5</th>\n",
              "      <td>10.038344</td>\n",
              "      <td>1.870836</td>\n",
              "      <td>8</td>\n",
              "      <td>3/20/20</td>\n",
              "      <td>0.370501</td>\n",
              "      <td>65</td>\n",
              "      <td>3/9/20</td>\n",
              "      <td>3.803851</td>\n",
              "    </tr>\n",
              "    <tr>\n",
              "      <th>6</th>\n",
              "      <td>9.041897</td>\n",
              "      <td>1.964965</td>\n",
              "      <td>9</td>\n",
              "      <td>3/20/20</td>\n",
              "      <td>0.352753</td>\n",
              "      <td>93</td>\n",
              "      <td>3/9/20</td>\n",
              "      <td>3.343409</td>\n",
              "    </tr>\n",
              "    <tr>\n",
              "      <th>7</th>\n",
              "      <td>2.646820</td>\n",
              "      <td>2.343888</td>\n",
              "      <td>10</td>\n",
              "      <td>3/20/20</td>\n",
              "      <td>0.295725</td>\n",
              "      <td>102</td>\n",
              "      <td>3/9/20</td>\n",
              "      <td>-1.648122</td>\n",
              "    </tr>\n",
              "    <tr>\n",
              "      <th>8</th>\n",
              "      <td>4.137657</td>\n",
              "      <td>2.575725</td>\n",
              "      <td>11</td>\n",
              "      <td>3/20/20</td>\n",
              "      <td>0.269108</td>\n",
              "      <td>128</td>\n",
              "      <td>3/9/20</td>\n",
              "      <td>-0.963151</td>\n",
              "    </tr>\n",
              "  </tbody>\n",
              "</table>\n",
              "</div>"
            ],
            "text/plain": [
              "          N0        Td  day  ... infections  initial_date        t0\n",
              "0   2.807600  1.462654    3  ...          9        3/9/20  1.313390\n",
              "1   2.494229  1.758198    4  ...         13        3/9/20  0.714947\n",
              "2   2.677249  1.621183    5  ...         22        3/9/20  1.110281\n",
              "3   2.087084  1.589835    6  ...         34        3/9/20  0.608070\n",
              "4   3.353201  1.550790    7  ...         54        3/9/20  1.793219\n",
              "5  10.038344  1.870836    8  ...         65        3/9/20  3.803851\n",
              "6   9.041897  1.964965    9  ...         93        3/9/20  3.343409\n",
              "7   2.646820  2.343888   10  ...        102        3/9/20 -1.648122\n",
              "8   4.137657  2.575725   11  ...        128        3/9/20 -0.963151\n",
              "\n",
              "[9 rows x 8 columns]"
            ]
          },
          "metadata": {
            "tags": []
          },
          "execution_count": 129
        }
      ]
    },
    {
      "cell_type": "code",
      "metadata": {
        "id": "fr2lQ8gjWlnk",
        "colab_type": "code",
        "colab": {
          "base_uri": "https://localhost:8080/",
          "height": 34
        },
        "outputId": "148174bc-3457-4cc3-dddf-98ddc830f00b"
      },
      "source": [
        "list(x),len(x)"
      ],
      "execution_count": 124,
      "outputs": [
        {
          "output_type": "execute_result",
          "data": {
            "text/plain": [
              "([1, 2, 3, 4, 5, 6, 7, 8, 9, 10, 11, 12], 12)"
            ]
          },
          "metadata": {
            "tags": []
          },
          "execution_count": 124
        }
      ]
    },
    {
      "cell_type": "code",
      "metadata": {
        "id": "4YeLEyUcW3YO",
        "colab_type": "code",
        "colab": {
          "base_uri": "https://localhost:8080/",
          "height": 34
        },
        "outputId": "749e393d-533e-487d-f9d4-e2612707b9b9"
      },
      "source": [
        "y,len(y)"
      ],
      "execution_count": 125,
      "outputs": [
        {
          "output_type": "execute_result",
          "data": {
            "text/plain": [
              "([1, 3, 9, 9, 13, 22, 34, 54, 65, 93, 102, 128], 12)"
            ]
          },
          "metadata": {
            "tags": []
          },
          "execution_count": 125
        }
      ]
    },
    {
      "cell_type": "code",
      "metadata": {
        "id": "0VQV5l7BW7fZ",
        "colab_type": "code",
        "colab": {
          "base_uri": "https://localhost:8080/",
          "height": 34
        },
        "outputId": "138fc931-b2e5-4722-e0be-a2cfc6e25359"
      },
      "source": [
        "y[:d]"
      ],
      "execution_count": 114,
      "outputs": [
        {
          "output_type": "execute_result",
          "data": {
            "text/plain": [
              "[1, 3, 9]"
            ]
          },
          "metadata": {
            "tags": []
          },
          "execution_count": 114
        }
      ]
    },
    {
      "cell_type": "code",
      "metadata": {
        "id": "YwkGO-YSTlaf",
        "colab_type": "code",
        "colab": {
          "base_uri": "https://localhost:8080/",
          "height": 68
        },
        "outputId": "3a11ebe2-b65c-4834-a350-05ba77489e8a"
      },
      "source": [
        "exp_fit"
      ],
      "execution_count": 84,
      "outputs": [
        {
          "output_type": "execute_result",
          "data": {
            "text/plain": [
              "(array([2.67724904, 0.42755635, 1.1102814 ]), array([[inf, inf, inf],\n",
              "        [inf, inf, inf],\n",
              "        [inf, inf, inf]]))"
            ]
          },
          "metadata": {
            "tags": []
          },
          "execution_count": 84
        }
      ]
    },
    {
      "cell_type": "code",
      "metadata": {
        "id": "J_w6NfQCTp21",
        "colab_type": "code",
        "colab": {
          "base_uri": "https://localhost:8080/",
          "height": 34
        },
        "outputId": "85a6d36a-e9d0-4acf-b5cb-b3fac2454263"
      },
      "source": [
        "exponential_model(t0,N0,g,t0)==N0"
      ],
      "execution_count": 87,
      "outputs": [
        {
          "output_type": "execute_result",
          "data": {
            "text/plain": [
              "True"
            ]
          },
          "metadata": {
            "tags": []
          },
          "execution_count": 87
        }
      ]
    },
    {
      "cell_type": "code",
      "metadata": {
        "id": "HocK3AJzTwfy",
        "colab_type": "code",
        "colab": {
          "base_uri": "https://localhost:8080/",
          "height": 34
        },
        "outputId": "9c587fd9-910f-4851-a737-81b75e081722"
      },
      "source": [
        "exponential_model(t0,N0,g,t0)"
      ],
      "execution_count": 86,
      "outputs": [
        {
          "output_type": "execute_result",
          "data": {
            "text/plain": [
              "2.6772490368850095"
            ]
          },
          "metadata": {
            "tags": []
          },
          "execution_count": 86
        }
      ]
    },
    {
      "cell_type": "code",
      "metadata": {
        "id": "7vOh84yv0ZvS",
        "colab_type": "code",
        "colab": {}
      },
      "source": [
        "Td=None"
      ],
      "execution_count": 0,
      "outputs": []
    },
    {
      "cell_type": "markdown",
      "metadata": {
        "id": "t3pI27BkA8bh",
        "colab_type": "text"
      },
      "source": [
        "### Other country"
      ]
    },
    {
      "cell_type": "code",
      "metadata": {
        "id": "FukSUSfNKJ9O",
        "colab_type": "code",
        "outputId": "f6545e63-a25a-485c-f506-9d60f038239d",
        "colab": {
          "base_uri": "https://localhost:8080/",
          "height": 312
        }
      },
      "source": [
        "c='Australia'\n",
        "max_forecast=1000\n",
        "prediction=21\n",
        "start_day='3/1/20'\n",
        "y=get_infected(c,date_start=start_day,date_end=dmax,DataFrame=cv)\n",
        "x=range(1,len(y)+1)\n",
        "exp_fit = opt.curve_fit(exponential_model,x,y,p0=[1,0.4,3])\n",
        "\n",
        "xx=range(x[0],x[-1]+20)\n",
        "if min(y)>0:\n",
        "    ymin=min(y)\n",
        "else:\n",
        "    ymin=1\n",
        "\n",
        "plt.plot(x,y,'r-',label=c)\n",
        "plt.plot(xx,\n",
        "         exponential_model(xx,exp_fit[0][0],exp_fit[0][1],exp_fit[0][2]),\n",
        "         'k:',\n",
        "         label=r'$%g\\cdot e^{%g[x-(%g)]}$' %(exp_fit[0][0],exp_fit[0][1],exp_fit[0][2]) )\n",
        "\n",
        "plt.plot(xx,exponential_model_co(xx),'c:',label='Colombia model')\n",
        "\n",
        "plt.hlines(max_forecast,xx[0],xx[-1],linestyles='--',lw=1)\n",
        "plt.vlines(prediction,ymin,max_forecast,linestyles='--',lw=1)\n",
        "\n",
        "plt.title('From: {} to {}'.format(\n",
        "    datetime.datetime.strptime(start_day,\"%m/%d/%y\").strftime(\"%B %-d, %Y\"),\n",
        "    datetime.datetime.strptime(dmax,\"%m/%d/%y\").strftime(\"%B %-d, %Y\") ) ) \n",
        "plt.legend(loc='best')\n",
        "plt.xscale('linear')\n",
        "plt.yscale('log')\n",
        "plt.xlabel('days')\n",
        "plt.ylabel('infections')\n",
        "plt.xlim(xx[0],xx[-1])\n",
        "plt.ylim(ymin,max_forecast+10000)"
      ],
      "execution_count": 38,
      "outputs": [
        {
          "output_type": "execute_result",
          "data": {
            "text/plain": [
              "(27, 11000)"
            ]
          },
          "metadata": {
            "tags": []
          },
          "execution_count": 38
        },
        {
          "output_type": "display_data",
          "data": {
            "image/png": "[encoded data removed]",
            "text/plain": [
              "<Figure size 432x288 with 1 Axes>"
            ]
          },
          "metadata": {
            "tags": []
          }
        }
      ]
    },
    {
      "cell_type": "code",
      "metadata": {
        "id": "fWSwwhu66ErC",
        "colab_type": "code",
        "outputId": "d6dce8e3-05f5-47d8-f818-999edd4c33b4",
        "colab": {
          "base_uri": "https://localhost:8080/",
          "height": 34
        }
      },
      "source": [
        "N0=exp_fit[0][0];g=exp_fit[0][1];t0=exp_fit[0][2]\n",
        "if exponential_model(t0,N0,g,t0)==N0:\n",
        "    Td=np.log(2)/g\n",
        "else:\n",
        "    print('WARNING: N(t) interpretation not working')\n",
        "    Td=None\n",
        "if Td:\n",
        "    dt='(doubling time = {} days)'.format(Td.round(2))\n",
        "    print('T_d →  {}'.format(dt))"
      ],
      "execution_count": 39,
      "outputs": [
        {
          "output_type": "stream",
          "text": [
            "T_d →  (doubling time = 3.51 days)\n"
          ],
          "name": "stdout"
        }
      ]
    },
    {
      "cell_type": "markdown",
      "metadata": {
        "id": "VBUfaYgEjfo4",
        "colab_type": "text"
      },
      "source": [
        "### Last update"
      ]
    },
    {
      "cell_type": "code",
      "metadata": {
        "id": "r3SZix2TbpbJ",
        "colab_type": "code",
        "outputId": "e0b48a31-1663-46ac-a30e-27cb84120cfc",
        "colab": {
          "base_uri": "https://localhost:8080/",
          "height": 79
        }
      },
      "source": [
        "cv[cv['Country/Region']=='Colombia'][[dmax]]"
      ],
      "execution_count": 40,
      "outputs": [
        {
          "output_type": "execute_result",
          "data": {
            "text/html": [
              "<div>\n",
              "<style scoped>\n",
              "    .dataframe tbody tr th:only-of-type {\n",
              "        vertical-align: middle;\n",
              "    }\n",
              "\n",
              "    .dataframe tbody tr th {\n",
              "        vertical-align: top;\n",
              "    }\n",
              "\n",
              "    .dataframe thead th {\n",
              "        text-align: right;\n",
              "    }\n",
              "</style>\n",
              "<table border=\"1\" class=\"dataframe\">\n",
              "  <thead>\n",
              "    <tr style=\"text-align: right;\">\n",
              "      <th></th>\n",
              "      <th>3/20/20</th>\n",
              "    </tr>\n",
              "  </thead>\n",
              "  <tbody>\n",
              "    <tr>\n",
              "      <th>73</th>\n",
              "      <td>128</td>\n",
              "    </tr>\n",
              "  </tbody>\n",
              "</table>\n",
              "</div>"
            ],
            "text/plain": [
              "    3/20/20\n",
              "73      128"
            ]
          },
          "metadata": {
            "tags": []
          },
          "execution_count": 40
        }
      ]
    },
    {
      "cell_type": "markdown",
      "metadata": {
        "id": "L9T51Hfdl6fv",
        "colab_type": "text"
      },
      "source": [
        "## Last official data from Colombia"
      ]
    },
    {
      "cell_type": "code",
      "metadata": {
        "id": "0v39TKzxW2Rp",
        "colab_type": "code",
        "colab": {}
      },
      "source": [
        "import requests\n",
        "\n",
        "r=requests.get('https://infogram.com/covid-2019-ins-colombia-1hnq41zg9ord63z')\n",
        "\n",
        "head='\"data\":[[[\"ID de caso\",'\n",
        "tail=']]]'\n",
        "js='{}{}{}'.format( head.split(':')[-1],\n",
        "                 r.text.split(head)[-1].split(tail)[0],\n",
        "                 tail\n",
        "             )\n",
        "\n",
        "df=pd.read_json(js)\n",
        "\n",
        "coco=pd.DataFrame([l for l in df[range(1,df.columns[-1]+1)].values[0]],columns=df[0][0] )\n",
        "coco['Fecha']=pd.to_datetime(coco['Fecha de diagnóstico'],format=\"%d/%m/%Y\")"
      ],
      "execution_count": 0,
      "outputs": []
    },
    {
      "cell_type": "code",
      "metadata": {
        "id": "tCDbyMS3YCKH",
        "colab_type": "code",
        "colab": {
          "base_uri": "https://localhost:8080/",
          "height": 416
        },
        "outputId": "6ce5f7da-7ac2-427d-9293-db3282b4cad2"
      },
      "source": [
        "coco"
      ],
      "execution_count": 58,
      "outputs": [
        {
          "output_type": "execute_result",
          "data": {
            "text/html": [
              "<div>\n",
              "<style scoped>\n",
              "    .dataframe tbody tr th:only-of-type {\n",
              "        vertical-align: middle;\n",
              "    }\n",
              "\n",
              "    .dataframe tbody tr th {\n",
              "        vertical-align: top;\n",
              "    }\n",
              "\n",
              "    .dataframe thead th {\n",
              "        text-align: right;\n",
              "    }\n",
              "</style>\n",
              "<table border=\"1\" class=\"dataframe\">\n",
              "  <thead>\n",
              "    <tr style=\"text-align: right;\">\n",
              "      <th></th>\n",
              "      <th>ID de caso</th>\n",
              "      <th>Fecha de diagnóstico</th>\n",
              "      <th>Ciudad de ubicación</th>\n",
              "      <th>Atención</th>\n",
              "      <th>Edad</th>\n",
              "      <th>Sexo</th>\n",
              "      <th>Tipo*</th>\n",
              "      <th>País de procedencia</th>\n",
              "      <th>Fecha</th>\n",
              "    </tr>\n",
              "  </thead>\n",
              "  <tbody>\n",
              "    <tr>\n",
              "      <th>0</th>\n",
              "      <td>1</td>\n",
              "      <td>06/03/2020</td>\n",
              "      <td>Bogotá</td>\n",
              "      <td>casa</td>\n",
              "      <td>10 a 19</td>\n",
              "      <td>F</td>\n",
              "      <td>Importado</td>\n",
              "      <td>Italia</td>\n",
              "      <td>2020-03-06</td>\n",
              "    </tr>\n",
              "    <tr>\n",
              "      <th>1</th>\n",
              "      <td>2</td>\n",
              "      <td>09/03/2020</td>\n",
              "      <td>Buga</td>\n",
              "      <td>hospital</td>\n",
              "      <td>30 a 39</td>\n",
              "      <td>M</td>\n",
              "      <td>Importado</td>\n",
              "      <td>España</td>\n",
              "      <td>2020-03-09</td>\n",
              "    </tr>\n",
              "    <tr>\n",
              "      <th>2</th>\n",
              "      <td>3</td>\n",
              "      <td>09/03/2020</td>\n",
              "      <td>Medellín</td>\n",
              "      <td>casa</td>\n",
              "      <td>50 a 59</td>\n",
              "      <td>F</td>\n",
              "      <td>Importado</td>\n",
              "      <td>España</td>\n",
              "      <td>2020-03-09</td>\n",
              "    </tr>\n",
              "    <tr>\n",
              "      <th>3</th>\n",
              "      <td>4</td>\n",
              "      <td>11/03/2020</td>\n",
              "      <td>Medellín</td>\n",
              "      <td>casa</td>\n",
              "      <td>50 a 59</td>\n",
              "      <td>M</td>\n",
              "      <td>Relacionado</td>\n",
              "      <td>Colombia</td>\n",
              "      <td>2020-03-11</td>\n",
              "    </tr>\n",
              "    <tr>\n",
              "      <th>4</th>\n",
              "      <td>5</td>\n",
              "      <td>11/03/2020</td>\n",
              "      <td>Medellín</td>\n",
              "      <td>casa</td>\n",
              "      <td>20 a 29</td>\n",
              "      <td>M</td>\n",
              "      <td>Relacionado</td>\n",
              "      <td>Colombia</td>\n",
              "      <td>2020-03-11</td>\n",
              "    </tr>\n",
              "    <tr>\n",
              "      <th>...</th>\n",
              "      <td>...</td>\n",
              "      <td>...</td>\n",
              "      <td>...</td>\n",
              "      <td>...</td>\n",
              "      <td>...</td>\n",
              "      <td>...</td>\n",
              "      <td>...</td>\n",
              "      <td>...</td>\n",
              "      <td>...</td>\n",
              "    </tr>\n",
              "    <tr>\n",
              "      <th>191</th>\n",
              "      <td>192</td>\n",
              "      <td>21/03/2020</td>\n",
              "      <td>Cali</td>\n",
              "      <td>casa</td>\n",
              "      <td>30 a 39</td>\n",
              "      <td>F</td>\n",
              "      <td>Relacionado</td>\n",
              "      <td>Colombia</td>\n",
              "      <td>2020-03-21</td>\n",
              "    </tr>\n",
              "    <tr>\n",
              "      <th>192</th>\n",
              "      <td>193</td>\n",
              "      <td>21/03/2020</td>\n",
              "      <td>Cali</td>\n",
              "      <td>casa</td>\n",
              "      <td>50 a 59</td>\n",
              "      <td>F</td>\n",
              "      <td>Importado</td>\n",
              "      <td>Italia</td>\n",
              "      <td>2020-03-21</td>\n",
              "    </tr>\n",
              "    <tr>\n",
              "      <th>193</th>\n",
              "      <td>194</td>\n",
              "      <td>21/03/2020</td>\n",
              "      <td>Palmira</td>\n",
              "      <td>casa</td>\n",
              "      <td>60 a 69</td>\n",
              "      <td>F</td>\n",
              "      <td>Importado</td>\n",
              "      <td>España</td>\n",
              "      <td>2020-03-21</td>\n",
              "    </tr>\n",
              "    <tr>\n",
              "      <th>194</th>\n",
              "      <td>195</td>\n",
              "      <td>21/03/2020</td>\n",
              "      <td>Pereira</td>\n",
              "      <td>casa</td>\n",
              "      <td>60 a 69</td>\n",
              "      <td>F</td>\n",
              "      <td>Importado</td>\n",
              "      <td>Estados Unidos</td>\n",
              "      <td>2020-03-21</td>\n",
              "    </tr>\n",
              "    <tr>\n",
              "      <th>195</th>\n",
              "      <td>196</td>\n",
              "      <td>21/03/2020</td>\n",
              "      <td>Neiva</td>\n",
              "      <td>casa</td>\n",
              "      <td>50 a 59</td>\n",
              "      <td>F</td>\n",
              "      <td>Importado</td>\n",
              "      <td>España</td>\n",
              "      <td>2020-03-21</td>\n",
              "    </tr>\n",
              "  </tbody>\n",
              "</table>\n",
              "<p>196 rows × 9 columns</p>\n",
              "</div>"
            ],
            "text/plain": [
              "    ID de caso Fecha de diagnóstico  ... País de procedencia      Fecha\n",
              "0            1           06/03/2020  ...              Italia 2020-03-06\n",
              "1            2           09/03/2020  ...              España 2020-03-09\n",
              "2            3           09/03/2020  ...              España 2020-03-09\n",
              "3            4           11/03/2020  ...            Colombia 2020-03-11\n",
              "4            5           11/03/2020  ...            Colombia 2020-03-11\n",
              "..         ...                  ...  ...                 ...        ...\n",
              "191        192           21/03/2020  ...            Colombia 2020-03-21\n",
              "192        193           21/03/2020  ...              Italia 2020-03-21\n",
              "193        194           21/03/2020  ...              España 2020-03-21\n",
              "194        195           21/03/2020  ...      Estados Unidos 2020-03-21\n",
              "195        196           21/03/2020  ...              España 2020-03-21\n",
              "\n",
              "[196 rows x 9 columns]"
            ]
          },
          "metadata": {
            "tags": []
          },
          "execution_count": 58
        }
      ]
    },
    {
      "cell_type": "code",
      "metadata": {
        "id": "_9YnXQtAKOdd",
        "colab_type": "code",
        "colab": {}
      },
      "source": [
        ""
      ],
      "execution_count": 0,
      "outputs": []
    }
  ]
}